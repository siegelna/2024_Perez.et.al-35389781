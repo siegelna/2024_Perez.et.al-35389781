{
 "cells": [
  {
   "cell_type": "code",
   "execution_count": 1,
   "metadata": {
    "notebookRunGroups": {
     "groupValue": "1"
    },
    "vscode": {
     "languageId": "r"
    }
   },
   "outputs": [
    {
     "name": "stderr",
     "output_type": "stream",
     "text": [
      "Loading required package: SeuratObject\n",
      "\n",
      "Loading required package: sp\n",
      "\n",
      "\n",
      "Attaching package: ‘SeuratObject’\n",
      "\n",
      "\n",
      "The following objects are masked from ‘package:base’:\n",
      "\n",
      "    intersect, t\n",
      "\n",
      "\n",
      "\n",
      "Attaching package: ‘anndata’\n",
      "\n",
      "\n",
      "The following object is masked from ‘package:SeuratObject’:\n",
      "\n",
      "    Layers\n",
      "\n",
      "\n"
     ]
    }
   ],
   "source": [
    "library(Seurat)\n",
    "library(anndata)"
   ]
  },
  {
   "cell_type": "code",
   "execution_count": 2,
   "metadata": {
    "vscode": {
     "languageId": "r"
    }
   },
   "outputs": [],
   "source": [
    "anndata_object <- read_h5ad(\"data/GSE174188_CLUES1_adjusted.h5ad\")"
   ]
  },
  {
   "cell_type": "code",
   "execution_count": 3,
   "metadata": {
    "vscode": {
     "languageId": "r"
    }
   },
   "outputs": [],
   "source": [
    "split_index <- sample(1:nrow(anndata_object), nrow(anndata_object) / 2)\n",
    "adata1 <- anndata_object[split_index, ]\n",
    "adata2 <- anndata_object[-split_index, ]\n",
    "\n",
    "# Save the AnnData objects as separate h5ad files\n",
    "write_h5ad(adata1, \"file1.h5ad\")\n",
    "write_h5ad(adata2, \"file2.h5ad\")"
   ]
  },
  {
   "cell_type": "code",
   "execution_count": 12,
   "metadata": {
    "vscode": {
     "languageId": "r"
    }
   },
   "outputs": [
    {
     "name": "stdout",
     "output_type": "stream",
     "text": [
      "Classes 'AnnDataR6', 'R6' <AnnDataR6>\n",
      "  Public:\n",
      "    .get_py_object: function () \n",
      "    .set_py_object: function (obj) \n",
      "    chunk_X: function (select = 1000L, replace = TRUE) \n",
      "    chunked_X: function (chunk_size = NULL) \n",
      "    concatenate: function (...) \n",
      "    copy: function (filename = NULL) \n",
      "    filename: active binding\n",
      "    initialize: function (obj) \n",
      "    is_view: active binding\n",
      "    isbacked: active binding\n",
      "    layers: active binding\n",
      "    n_obs: active binding\n",
      "    n_vars: active binding\n",
      "    obs: active binding\n",
      "    obs_keys: function () \n",
      "    obs_names: active binding\n",
      "    obs_names_make_unique: function (join = \"-\") \n",
      "    obsm: active binding\n",
      "    obsm_keys: function () \n",
      "    obsp: active binding\n",
      "    print: function (...) \n",
      "    raw: active binding\n",
      "    rename_categories: function (key, categories) \n",
      "    shape: active binding\n",
      "    strings_to_categoricals: function (df = NULL) \n",
      "    T: active binding\n",
      "    to_df: function (layer = NULL) \n",
      "    transpose: function () \n",
      "    uns: active binding\n",
      "    uns_keys: function () \n",
      "    var: active binding\n",
      "    var_keys: function () \n",
      "    var_names: active binding\n",
      "    var_names_make_unique: function (join = \"-\") \n",
      "    varm: active binding\n",
      "    varm_keys: function () \n",
      "    varp: active binding\n",
      "    write_csvs: function (dirname, skip_data = TRUE, sep = \",\") \n",
      "    write_h5ad: function (filename, compression = NULL, compression_opts = NULL, \n",
      "    write_loom: function (filename, write_obsm_varm = FALSE) \n",
      "    X: active binding\n",
      "  Private:\n",
      "    .anndata: anndata._core.anndata.AnnData, python.builtin.object \n"
     ]
    }
   ],
   "source": [
    "str(anndata_object)"
   ]
  },
  {
   "cell_type": "code",
   "execution_count": 13,
   "metadata": {
    "vscode": {
     "languageId": "r"
    }
   },
   "outputs": [
    {
     "name": "stdout",
     "output_type": "stream",
     "text": [
      "Classes 'AnnDataR6', 'R6' <AnnDataR6>\n",
      "  Public:\n",
      "    .get_py_object: function () \n",
      "    .set_py_object: function (obj) \n",
      "    chunk_X: function (select = 1000L, replace = TRUE) \n",
      "    chunked_X: function (chunk_size = NULL) \n",
      "    concatenate: function (...) \n",
      "    copy: function (filename = NULL) \n",
      "    filename: active binding\n",
      "    initialize: function (obj) \n",
      "    is_view: active binding\n",
      "    isbacked: active binding\n",
      "    layers: active binding\n",
      "    n_obs: active binding\n",
      "    n_vars: active binding\n",
      "    obs: active binding\n",
      "    obs_keys: function () \n",
      "    obs_names: active binding\n",
      "    obs_names_make_unique: function (join = \"-\") \n",
      "    obsm: active binding\n",
      "    obsm_keys: function () \n",
      "    obsp: active binding\n",
      "    print: function (...) \n",
      "    raw: active binding\n",
      "    rename_categories: function (key, categories) \n",
      "    shape: active binding\n",
      "    strings_to_categoricals: function (df = NULL) \n",
      "    T: active binding\n",
      "    to_df: function (layer = NULL) \n",
      "    transpose: function () \n",
      "    uns: active binding\n",
      "    uns_keys: function () \n",
      "    var: active binding\n",
      "    var_keys: function () \n",
      "    var_names: active binding\n",
      "    var_names_make_unique: function (join = \"-\") \n",
      "    varm: active binding\n",
      "    varm_keys: function () \n",
      "    varp: active binding\n",
      "    write_csvs: function (dirname, skip_data = TRUE, sep = \",\") \n",
      "    write_h5ad: function (filename, compression = NULL, compression_opts = NULL, \n",
      "    write_loom: function (filename, write_obsm_varm = FALSE) \n",
      "    X: active binding\n",
      "  Private:\n",
      "    .anndata: anndata._core.anndata.AnnData, python.builtin.object \n"
     ]
    }
   ],
   "source": [
    "str(adata2)"
   ]
  },
  {
   "cell_type": "code",
   "execution_count": 5,
   "metadata": {
    "vscode": {
     "languageId": "r"
    }
   },
   "outputs": [
    {
     "name": "stderr",
     "output_type": "stream",
     "text": [
      "Registered S3 method overwritten by 'SeuratDisk':\n",
      "  method            from  \n",
      "  as.sparse.H5Group Seurat\n",
      "\n"
     ]
    }
   ],
   "source": [
    "library(SeuratDisk)"
   ]
  },
  {
   "cell_type": "code",
   "execution_count": 6,
   "metadata": {
    "vscode": {
     "languageId": "r"
    }
   },
   "outputs": [
    {
     "name": "stderr",
     "output_type": "stream",
     "text": [
      "Warning message:\n",
      "“Unknown file type: h5ad”\n",
      "Warning message:\n",
      "“'assay' not set, setting to 'RNA'”\n",
      "Creating h5Seurat file for version 3.1.5.9900\n",
      "\n",
      "Adding X as scale.data\n",
      "\n",
      "Adding raw/X as data\n",
      "\n",
      "Adding raw/X as counts\n",
      "\n",
      "Adding meta.features from raw/var\n",
      "\n",
      "Merging gene_ids from scaled feature-level metadata\n",
      "\n",
      "Adding X_pca as cell embeddings for pca\n",
      "\n",
      "Adding X_umap as cell embeddings for umap\n",
      "\n",
      "Adding PCs as feature loadings fpr pca\n",
      "\n",
      "Adding miscellaneous information for pca\n",
      "\n",
      "Adding standard deviations for pca\n",
      "\n",
      "Adding miscellaneous information for umap\n",
      "\n",
      "Adding rank_genes_groups to miscellaneous data\n",
      "\n"
     ]
    }
   ],
   "source": [
    "Convert(\"file1.h5ad\", dest = \"h5seurat\", overwrite = TRUE)"
   ]
  },
  {
   "cell_type": "code",
   "execution_count": 7,
   "metadata": {
    "vscode": {
     "languageId": "r"
    }
   },
   "outputs": [
    {
     "name": "stderr",
     "output_type": "stream",
     "text": [
      "Warning message:\n",
      "“Unknown file type: h5ad”\n",
      "Warning message:\n",
      "“'assay' not set, setting to 'RNA'”\n",
      "Creating h5Seurat file for version 3.1.5.9900\n",
      "\n",
      "Adding X as scale.data\n",
      "\n",
      "Adding raw/X as data\n",
      "\n",
      "Adding raw/X as counts\n",
      "\n",
      "Adding meta.features from raw/var\n",
      "\n",
      "Merging gene_ids from scaled feature-level metadata\n",
      "\n",
      "Adding X_pca as cell embeddings for pca\n",
      "\n",
      "Adding X_umap as cell embeddings for umap\n",
      "\n",
      "Adding PCs as feature loadings fpr pca\n",
      "\n",
      "Adding miscellaneous information for pca\n",
      "\n",
      "Adding standard deviations for pca\n",
      "\n",
      "Adding miscellaneous information for umap\n",
      "\n",
      "Adding rank_genes_groups to miscellaneous data\n",
      "\n"
     ]
    }
   ],
   "source": [
    "Convert(\"file2.h5ad\", dest = \"h5seurat\", overwrite = TRUE)"
   ]
  },
  {
   "cell_type": "code",
   "execution_count": 8,
   "metadata": {
    "vscode": {
     "languageId": "r"
    }
   },
   "outputs": [
    {
     "name": "stderr",
     "output_type": "stream",
     "text": [
      "Validating h5Seurat file\n",
      "\n",
      "Warning message:\n",
      "“Feature names cannot have underscores ('_'), replacing with dashes ('-')”\n",
      "Initializing RNA with data\n",
      "\n",
      "Adding counts for RNA\n",
      "\n",
      "Adding scale.data for RNA\n",
      "\n",
      "Adding feature-level metadata for RNA\n",
      "\n"
     ]
    },
    {
     "ename": "ERROR",
     "evalue": "Error: Missing required datasets 'levels' and 'values'\n",
     "output_type": "error",
     "traceback": [
      "Error: Missing required datasets 'levels' and 'values'\nTraceback:\n",
      "1. LoadH5Seurat(\"file1.h5seurat\")",
      "2. LoadH5Seurat.character(\"file1.h5seurat\")",
      "3. LoadH5Seurat(file = hfile, assays = assays, reductions = reductions, \n .     graphs = graphs, neighbors = neighbors, images = images, \n .     meta.data = meta.data, commands = commands, misc = misc, \n .     tools = tools, verbose = verbose, ...)",
      "4. LoadH5Seurat.h5Seurat(file = hfile, assays = assays, reductions = reductions, \n .     graphs = graphs, neighbors = neighbors, images = images, \n .     meta.data = meta.data, commands = commands, misc = misc, \n .     tools = tools, verbose = verbose, ...)",
      "5. as.Seurat(x = file, assays = assays, reductions = reductions, \n .     graphs = graphs, neighbors = neighbors, images = images, \n .     meta.data = meta.data, commands = commands, misc = misc, \n .     tools = tools, verbose = verbose, ...)",
      "6. as.Seurat.h5Seurat(x = file, assays = assays, reductions = reductions, \n .     graphs = graphs, neighbors = neighbors, images = images, \n .     meta.data = meta.data, commands = commands, misc = misc, \n .     tools = tools, verbose = verbose, ...)",
      "7. AssembleAssay(assay = assay, file = x, slots = assays[[assay]], \n .     verbose = verbose)",
      "8. as.data.frame(x = assay.group[[\"meta.features\"]], row.names = features)",
      "9. as.data.frame.H5Group(x = assay.group[[\"meta.features\"]], row.names = features)",
      "10. as.factor(x = x[[i]])",
      "11. as.factor(x = x[[i]])",
      "12. stop(\"Missing required datasets 'levels' and 'values'\", call. = FALSE)"
     ]
    }
   ],
   "source": [
    "part1 <- read_h5ad(\"file1.h5seurat\")\n",
    "part1 <- CreateSeuratObject(counts = t(part1$X))"
   ]
  },
  {
   "cell_type": "code",
   "execution_count": 10,
   "metadata": {
    "vscode": {
     "languageId": "r"
    }
   },
   "outputs": [
    {
     "ename": "ERROR",
     "evalue": "Error in eval(expr, envir, enclos): object 'part2' not found\n",
     "output_type": "error",
     "traceback": [
      "Error in eval(expr, envir, enclos): object 'part2' not found\nTraceback:\n"
     ]
    }
   ],
   "source": [
    "part2"
   ]
  },
  {
   "cell_type": "code",
   "execution_count": null,
   "metadata": {
    "vscode": {
     "languageId": "r"
    }
   },
   "outputs": [],
   "source": [
    "obj <- merge(x = part1, y = part2)\n",
    "save(obj, file = file.path(\"object\", \"00.rda\"))"
   ]
  }
 ],
 "metadata": {
  "kernelspec": {
   "display_name": "R",
   "language": "R",
   "name": "ir"
  },
  "language_info": {
   "codemirror_mode": "r",
   "file_extension": ".r",
   "mimetype": "text/x-r-source",
   "name": "R",
   "pygments_lexer": "r",
   "version": "4.3.3"
  }
 },
 "nbformat": 4,
 "nbformat_minor": 2
}
